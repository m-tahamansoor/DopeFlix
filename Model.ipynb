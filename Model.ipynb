{
  "cells": [
    {
      "cell_type": "code",
      "execution_count": 1,
      "metadata": {
        "id": "DZOKMpKZEyFQ"
      },
      "outputs": [],
      "source": [
        "import pandas as pd\n",
        "import numpy as np\n",
        "import ast"
      ]
    },
    {
      "cell_type": "code",
      "execution_count": 2,
      "metadata": {
        "id": "K4HODFETFGsQ"
      },
      "outputs": [],
      "source": [
        "credits = pd.read_csv('credits_dataset.csv')\n",
        "movies = pd.read_csv('movies_dataset.csv')"
      ]
    },
    {
      "cell_type": "code",
      "execution_count": 3,
      "metadata": {
        "colab": {
          "base_uri": "https://localhost:8080/",
          "height": 206
        },
        "id": "LnKi5wvrFO9G",
        "outputId": "5cd93c0e-e2ae-4759-9a5b-02db1df4dc95"
      },
      "outputs": [
        {
          "data": {
            "text/html": [
              "<div>\n",
              "<style scoped>\n",
              "    .dataframe tbody tr th:only-of-type {\n",
              "        vertical-align: middle;\n",
              "    }\n",
              "\n",
              "    .dataframe tbody tr th {\n",
              "        vertical-align: top;\n",
              "    }\n",
              "\n",
              "    .dataframe thead th {\n",
              "        text-align: right;\n",
              "    }\n",
              "</style>\n",
              "<table border=\"1\" class=\"dataframe\">\n",
              "  <thead>\n",
              "    <tr style=\"text-align: right;\">\n",
              "      <th></th>\n",
              "      <th>movie_id</th>\n",
              "      <th>title</th>\n",
              "      <th>cast</th>\n",
              "      <th>crew</th>\n",
              "    </tr>\n",
              "  </thead>\n",
              "  <tbody>\n",
              "    <tr>\n",
              "      <th>0</th>\n",
              "      <td>19995</td>\n",
              "      <td>Avatar</td>\n",
              "      <td>[{\"cast_id\": 242, \"character\": \"Jake Sully\", \"...</td>\n",
              "      <td>[{\"credit_id\": \"52fe48009251416c750aca23\", \"de...</td>\n",
              "    </tr>\n",
              "    <tr>\n",
              "      <th>1</th>\n",
              "      <td>285</td>\n",
              "      <td>Pirates of the Caribbean: At World's End</td>\n",
              "      <td>[{\"cast_id\": 4, \"character\": \"Captain Jack Spa...</td>\n",
              "      <td>[{\"credit_id\": \"52fe4232c3a36847f800b579\", \"de...</td>\n",
              "    </tr>\n",
              "    <tr>\n",
              "      <th>2</th>\n",
              "      <td>206647</td>\n",
              "      <td>Spectre</td>\n",
              "      <td>[{\"cast_id\": 1, \"character\": \"James Bond\", \"cr...</td>\n",
              "      <td>[{\"credit_id\": \"54805967c3a36829b5002c41\", \"de...</td>\n",
              "    </tr>\n",
              "    <tr>\n",
              "      <th>3</th>\n",
              "      <td>49026</td>\n",
              "      <td>The Dark Knight Rises</td>\n",
              "      <td>[{\"cast_id\": 2, \"character\": \"Bruce Wayne / Ba...</td>\n",
              "      <td>[{\"credit_id\": \"52fe4781c3a36847f81398c3\", \"de...</td>\n",
              "    </tr>\n",
              "    <tr>\n",
              "      <th>4</th>\n",
              "      <td>49529</td>\n",
              "      <td>John Carter</td>\n",
              "      <td>[{\"cast_id\": 5, \"character\": \"John Carter\", \"c...</td>\n",
              "      <td>[{\"credit_id\": \"52fe479ac3a36847f813eaa3\", \"de...</td>\n",
              "    </tr>\n",
              "  </tbody>\n",
              "</table>\n",
              "</div>"
            ],
            "text/plain": [
              "   movie_id                                     title  \\\n",
              "0     19995                                    Avatar   \n",
              "1       285  Pirates of the Caribbean: At World's End   \n",
              "2    206647                                   Spectre   \n",
              "3     49026                     The Dark Knight Rises   \n",
              "4     49529                               John Carter   \n",
              "\n",
              "                                                cast  \\\n",
              "0  [{\"cast_id\": 242, \"character\": \"Jake Sully\", \"...   \n",
              "1  [{\"cast_id\": 4, \"character\": \"Captain Jack Spa...   \n",
              "2  [{\"cast_id\": 1, \"character\": \"James Bond\", \"cr...   \n",
              "3  [{\"cast_id\": 2, \"character\": \"Bruce Wayne / Ba...   \n",
              "4  [{\"cast_id\": 5, \"character\": \"John Carter\", \"c...   \n",
              "\n",
              "                                                crew  \n",
              "0  [{\"credit_id\": \"52fe48009251416c750aca23\", \"de...  \n",
              "1  [{\"credit_id\": \"52fe4232c3a36847f800b579\", \"de...  \n",
              "2  [{\"credit_id\": \"54805967c3a36829b5002c41\", \"de...  \n",
              "3  [{\"credit_id\": \"52fe4781c3a36847f81398c3\", \"de...  \n",
              "4  [{\"credit_id\": \"52fe479ac3a36847f813eaa3\", \"de...  "
            ]
          },
          "execution_count": 3,
          "metadata": {},
          "output_type": "execute_result"
        }
      ],
      "source": [
        "credits.head()"
      ]
    },
    {
      "cell_type": "code",
      "execution_count": 4,
      "metadata": {
        "colab": {
          "base_uri": "https://localhost:8080/",
          "height": 188
        },
        "id": "I09ZVjDYF6dp",
        "outputId": "fe7ded58-5e19-43a0-b5ab-b3de0e6de9c1"
      },
      "outputs": [
        {
          "data": {
            "text/html": [
              "<div>\n",
              "<style scoped>\n",
              "    .dataframe tbody tr th:only-of-type {\n",
              "        vertical-align: middle;\n",
              "    }\n",
              "\n",
              "    .dataframe tbody tr th {\n",
              "        vertical-align: top;\n",
              "    }\n",
              "\n",
              "    .dataframe thead th {\n",
              "        text-align: right;\n",
              "    }\n",
              "</style>\n",
              "<table border=\"1\" class=\"dataframe\">\n",
              "  <thead>\n",
              "    <tr style=\"text-align: right;\">\n",
              "      <th></th>\n",
              "      <th>budget</th>\n",
              "      <th>genres</th>\n",
              "      <th>homepage</th>\n",
              "      <th>id</th>\n",
              "      <th>keywords</th>\n",
              "      <th>original_language</th>\n",
              "      <th>original_title</th>\n",
              "      <th>overview</th>\n",
              "      <th>popularity</th>\n",
              "      <th>production_companies</th>\n",
              "      <th>production_countries</th>\n",
              "      <th>release_date</th>\n",
              "      <th>revenue</th>\n",
              "      <th>runtime</th>\n",
              "      <th>spoken_languages</th>\n",
              "      <th>status</th>\n",
              "      <th>tagline</th>\n",
              "      <th>title</th>\n",
              "      <th>vote_average</th>\n",
              "      <th>vote_count</th>\n",
              "    </tr>\n",
              "  </thead>\n",
              "  <tbody>\n",
              "    <tr>\n",
              "      <th>0</th>\n",
              "      <td>237000000</td>\n",
              "      <td>[{\"id\": 28, \"name\": \"Action\"}, {\"id\": 12, \"nam...</td>\n",
              "      <td>http://www.avatarmovie.com/</td>\n",
              "      <td>19995</td>\n",
              "      <td>[{\"id\": 1463, \"name\": \"culture clash\"}, {\"id\":...</td>\n",
              "      <td>en</td>\n",
              "      <td>Avatar</td>\n",
              "      <td>In the 22nd century, a paraplegic Marine is di...</td>\n",
              "      <td>150.437577</td>\n",
              "      <td>[{\"name\": \"Ingenious Film Partners\", \"id\": 289...</td>\n",
              "      <td>[{\"iso_3166_1\": \"US\", \"name\": \"United States o...</td>\n",
              "      <td>2009-12-10</td>\n",
              "      <td>2787965087</td>\n",
              "      <td>162.0</td>\n",
              "      <td>[{\"iso_639_1\": \"en\", \"name\": \"English\"}, {\"iso...</td>\n",
              "      <td>Released</td>\n",
              "      <td>Enter the World of Pandora.</td>\n",
              "      <td>Avatar</td>\n",
              "      <td>7.2</td>\n",
              "      <td>11800</td>\n",
              "    </tr>\n",
              "  </tbody>\n",
              "</table>\n",
              "</div>"
            ],
            "text/plain": [
              "      budget                                             genres  \\\n",
              "0  237000000  [{\"id\": 28, \"name\": \"Action\"}, {\"id\": 12, \"nam...   \n",
              "\n",
              "                      homepage     id  \\\n",
              "0  http://www.avatarmovie.com/  19995   \n",
              "\n",
              "                                            keywords original_language  \\\n",
              "0  [{\"id\": 1463, \"name\": \"culture clash\"}, {\"id\":...                en   \n",
              "\n",
              "  original_title                                           overview  \\\n",
              "0         Avatar  In the 22nd century, a paraplegic Marine is di...   \n",
              "\n",
              "   popularity                               production_companies  \\\n",
              "0  150.437577  [{\"name\": \"Ingenious Film Partners\", \"id\": 289...   \n",
              "\n",
              "                                production_countries release_date     revenue  \\\n",
              "0  [{\"iso_3166_1\": \"US\", \"name\": \"United States o...   2009-12-10  2787965087   \n",
              "\n",
              "   runtime                                   spoken_languages    status  \\\n",
              "0    162.0  [{\"iso_639_1\": \"en\", \"name\": \"English\"}, {\"iso...  Released   \n",
              "\n",
              "                       tagline   title  vote_average  vote_count  \n",
              "0  Enter the World of Pandora.  Avatar           7.2       11800  "
            ]
          },
          "execution_count": 4,
          "metadata": {},
          "output_type": "execute_result"
        }
      ],
      "source": [
        "movies.head(1)"
      ]
    },
    {
      "cell_type": "code",
      "execution_count": 5,
      "metadata": {
        "id": "etBuWxa4GIO5"
      },
      "outputs": [],
      "source": [
        "movies = movies.merge(credits, left_on = 'title', right_on = 'title')"
      ]
    },
    {
      "cell_type": "code",
      "execution_count": 6,
      "metadata": {
        "colab": {
          "base_uri": "https://localhost:8080/",
          "height": 217
        },
        "id": "IeSM0tr-GlZ9",
        "outputId": "f7c16a26-152a-4aaa-d05b-b3adbe8d8873"
      },
      "outputs": [
        {
          "data": {
            "text/html": [
              "<div>\n",
              "<style scoped>\n",
              "    .dataframe tbody tr th:only-of-type {\n",
              "        vertical-align: middle;\n",
              "    }\n",
              "\n",
              "    .dataframe tbody tr th {\n",
              "        vertical-align: top;\n",
              "    }\n",
              "\n",
              "    .dataframe thead th {\n",
              "        text-align: right;\n",
              "    }\n",
              "</style>\n",
              "<table border=\"1\" class=\"dataframe\">\n",
              "  <thead>\n",
              "    <tr style=\"text-align: right;\">\n",
              "      <th></th>\n",
              "      <th>budget</th>\n",
              "      <th>genres</th>\n",
              "      <th>homepage</th>\n",
              "      <th>id</th>\n",
              "      <th>keywords</th>\n",
              "      <th>original_language</th>\n",
              "      <th>original_title</th>\n",
              "      <th>overview</th>\n",
              "      <th>popularity</th>\n",
              "      <th>production_companies</th>\n",
              "      <th>...</th>\n",
              "      <th>runtime</th>\n",
              "      <th>spoken_languages</th>\n",
              "      <th>status</th>\n",
              "      <th>tagline</th>\n",
              "      <th>title</th>\n",
              "      <th>vote_average</th>\n",
              "      <th>vote_count</th>\n",
              "      <th>movie_id</th>\n",
              "      <th>cast</th>\n",
              "      <th>crew</th>\n",
              "    </tr>\n",
              "  </thead>\n",
              "  <tbody>\n",
              "    <tr>\n",
              "      <th>0</th>\n",
              "      <td>237000000</td>\n",
              "      <td>[{\"id\": 28, \"name\": \"Action\"}, {\"id\": 12, \"nam...</td>\n",
              "      <td>http://www.avatarmovie.com/</td>\n",
              "      <td>19995</td>\n",
              "      <td>[{\"id\": 1463, \"name\": \"culture clash\"}, {\"id\":...</td>\n",
              "      <td>en</td>\n",
              "      <td>Avatar</td>\n",
              "      <td>In the 22nd century, a paraplegic Marine is di...</td>\n",
              "      <td>150.437577</td>\n",
              "      <td>[{\"name\": \"Ingenious Film Partners\", \"id\": 289...</td>\n",
              "      <td>...</td>\n",
              "      <td>162.0</td>\n",
              "      <td>[{\"iso_639_1\": \"en\", \"name\": \"English\"}, {\"iso...</td>\n",
              "      <td>Released</td>\n",
              "      <td>Enter the World of Pandora.</td>\n",
              "      <td>Avatar</td>\n",
              "      <td>7.2</td>\n",
              "      <td>11800</td>\n",
              "      <td>19995</td>\n",
              "      <td>[{\"cast_id\": 242, \"character\": \"Jake Sully\", \"...</td>\n",
              "      <td>[{\"credit_id\": \"52fe48009251416c750aca23\", \"de...</td>\n",
              "    </tr>\n",
              "  </tbody>\n",
              "</table>\n",
              "<p>1 rows × 23 columns</p>\n",
              "</div>"
            ],
            "text/plain": [
              "      budget                                             genres  \\\n",
              "0  237000000  [{\"id\": 28, \"name\": \"Action\"}, {\"id\": 12, \"nam...   \n",
              "\n",
              "                      homepage     id  \\\n",
              "0  http://www.avatarmovie.com/  19995   \n",
              "\n",
              "                                            keywords original_language  \\\n",
              "0  [{\"id\": 1463, \"name\": \"culture clash\"}, {\"id\":...                en   \n",
              "\n",
              "  original_title                                           overview  \\\n",
              "0         Avatar  In the 22nd century, a paraplegic Marine is di...   \n",
              "\n",
              "   popularity                               production_companies  ... runtime  \\\n",
              "0  150.437577  [{\"name\": \"Ingenious Film Partners\", \"id\": 289...  ...   162.0   \n",
              "\n",
              "                                    spoken_languages    status  \\\n",
              "0  [{\"iso_639_1\": \"en\", \"name\": \"English\"}, {\"iso...  Released   \n",
              "\n",
              "                       tagline   title vote_average vote_count movie_id  \\\n",
              "0  Enter the World of Pandora.  Avatar          7.2      11800    19995   \n",
              "\n",
              "                                                cast  \\\n",
              "0  [{\"cast_id\": 242, \"character\": \"Jake Sully\", \"...   \n",
              "\n",
              "                                                crew  \n",
              "0  [{\"credit_id\": \"52fe48009251416c750aca23\", \"de...  \n",
              "\n",
              "[1 rows x 23 columns]"
            ]
          },
          "execution_count": 6,
          "metadata": {},
          "output_type": "execute_result"
        }
      ],
      "source": [
        "movies.head(1)"
      ]
    },
    {
      "cell_type": "code",
      "execution_count": 7,
      "metadata": {
        "id": "t-xSHmniGnu-"
      },
      "outputs": [],
      "source": [
        "movies = movies[['movie_id', 'title', 'overview', 'genres', 'keywords', 'cast', 'crew', 'original_language', 'production_countries', 'tagline']]"
      ]
    },
    {
      "cell_type": "code",
      "execution_count": 8,
      "metadata": {
        "colab": {
          "base_uri": "https://localhost:8080/",
          "height": 98
        },
        "id": "7bR5OZQuI4q0",
        "outputId": "e8bb75fb-18d0-4bb4-a4f2-6256600e8dec"
      },
      "outputs": [
        {
          "data": {
            "text/html": [
              "<div>\n",
              "<style scoped>\n",
              "    .dataframe tbody tr th:only-of-type {\n",
              "        vertical-align: middle;\n",
              "    }\n",
              "\n",
              "    .dataframe tbody tr th {\n",
              "        vertical-align: top;\n",
              "    }\n",
              "\n",
              "    .dataframe thead th {\n",
              "        text-align: right;\n",
              "    }\n",
              "</style>\n",
              "<table border=\"1\" class=\"dataframe\">\n",
              "  <thead>\n",
              "    <tr style=\"text-align: right;\">\n",
              "      <th></th>\n",
              "      <th>movie_id</th>\n",
              "      <th>title</th>\n",
              "      <th>overview</th>\n",
              "      <th>genres</th>\n",
              "      <th>keywords</th>\n",
              "      <th>cast</th>\n",
              "      <th>crew</th>\n",
              "      <th>original_language</th>\n",
              "      <th>production_countries</th>\n",
              "      <th>tagline</th>\n",
              "    </tr>\n",
              "  </thead>\n",
              "  <tbody>\n",
              "    <tr>\n",
              "      <th>0</th>\n",
              "      <td>19995</td>\n",
              "      <td>Avatar</td>\n",
              "      <td>In the 22nd century, a paraplegic Marine is di...</td>\n",
              "      <td>[{\"id\": 28, \"name\": \"Action\"}, {\"id\": 12, \"nam...</td>\n",
              "      <td>[{\"id\": 1463, \"name\": \"culture clash\"}, {\"id\":...</td>\n",
              "      <td>[{\"cast_id\": 242, \"character\": \"Jake Sully\", \"...</td>\n",
              "      <td>[{\"credit_id\": \"52fe48009251416c750aca23\", \"de...</td>\n",
              "      <td>en</td>\n",
              "      <td>[{\"iso_3166_1\": \"US\", \"name\": \"United States o...</td>\n",
              "      <td>Enter the World of Pandora.</td>\n",
              "    </tr>\n",
              "  </tbody>\n",
              "</table>\n",
              "</div>"
            ],
            "text/plain": [
              "   movie_id   title                                           overview  \\\n",
              "0     19995  Avatar  In the 22nd century, a paraplegic Marine is di...   \n",
              "\n",
              "                                              genres  \\\n",
              "0  [{\"id\": 28, \"name\": \"Action\"}, {\"id\": 12, \"nam...   \n",
              "\n",
              "                                            keywords  \\\n",
              "0  [{\"id\": 1463, \"name\": \"culture clash\"}, {\"id\":...   \n",
              "\n",
              "                                                cast  \\\n",
              "0  [{\"cast_id\": 242, \"character\": \"Jake Sully\", \"...   \n",
              "\n",
              "                                                crew original_language  \\\n",
              "0  [{\"credit_id\": \"52fe48009251416c750aca23\", \"de...                en   \n",
              "\n",
              "                                production_countries  \\\n",
              "0  [{\"iso_3166_1\": \"US\", \"name\": \"United States o...   \n",
              "\n",
              "                       tagline  \n",
              "0  Enter the World of Pandora.  "
            ]
          },
          "execution_count": 8,
          "metadata": {},
          "output_type": "execute_result"
        }
      ],
      "source": [
        "movies.head(1)"
      ]
    },
    {
      "cell_type": "code",
      "execution_count": 9,
      "metadata": {
        "id": "s4KCNav6JnoO"
      },
      "outputs": [],
      "source": [
        "def convert(obj):\n",
        "  L = []\n",
        "  for i in ast.literal_eval(obj):\n",
        "    L.append(i['name'])\n",
        "  return L"
      ]
    },
    {
      "cell_type": "code",
      "execution_count": 10,
      "metadata": {
        "id": "E7W5GooHKWUA"
      },
      "outputs": [],
      "source": [
        "movies['genres'] = movies['genres'].apply(convert)\n",
        "movies['keywords'] = movies['keywords'].apply(convert)\n",
        "movies['cast'] = movies['cast'].apply(lambda x: [(i['character'], i['name']) for i in ast.literal_eval(x)][:5])\n",
        "movies['crew'] = movies['crew'].apply(lambda x: [i['name'] for i in ast.literal_eval(x) if i['job'] == 'Director'])\n",
        "movies['production_countries'] = movies['production_countries'].apply(convert)"
      ]
    },
    {
      "cell_type": "code",
      "execution_count": 11,
      "metadata": {
        "colab": {
          "base_uri": "https://localhost:8080/"
        },
        "id": "iaB6lV1xKfeu",
        "outputId": "00f006d1-8388-48e6-ec07-1b6e4273882c"
      },
      "outputs": [
        {
          "name": "stdout",
          "output_type": "stream",
          "text": [
            "0       [Action, Adventure, Fantasy, Science Fiction]\n",
            "1                        [Adventure, Fantasy, Action]\n",
            "2                          [Action, Adventure, Crime]\n",
            "3                    [Action, Crime, Drama, Thriller]\n",
            "4                [Action, Adventure, Science Fiction]\n",
            "                            ...                      \n",
            "4804                        [Action, Crime, Thriller]\n",
            "4805                                [Comedy, Romance]\n",
            "4806               [Comedy, Drama, Romance, TV Movie]\n",
            "4807                                               []\n",
            "4808                                    [Documentary]\n",
            "Name: genres, Length: 4809, dtype: object\n",
            "0       [culture clash, future, space war, space colon...\n",
            "1       [ocean, drug abuse, exotic island, east india ...\n",
            "2       [spy, based on novel, secret agent, sequel, mi...\n",
            "3       [dc comics, crime fighter, terrorist, secret i...\n",
            "4       [based on novel, mars, medallion, space travel...\n",
            "                              ...                        \n",
            "4804    [united states–mexico barrier, legs, arms, pap...\n",
            "4805                                                   []\n",
            "4806    [date, love at first sight, narration, investi...\n",
            "4807                                                   []\n",
            "4808            [obsession, camcorder, crush, dream girl]\n",
            "Name: keywords, Length: 4809, dtype: object\n",
            "0       [(Jake Sully, Sam Worthington), (Neytiri, Zoe ...\n",
            "1       [(Captain Jack Sparrow, Johnny Depp), (Will Tu...\n",
            "2       [(James Bond, Daniel Craig), (Blofeld, Christo...\n",
            "3       [(Bruce Wayne / Batman, Christian Bale), (Alfr...\n",
            "4       [(John Carter, Taylor Kitsch), (Dejah Thoris, ...\n",
            "                              ...                        \n",
            "4804    [(El Mariachi, Carlos Gallardo), (Bigotón, Jai...\n",
            "4805    [(Buzzy, Edward Burns), (Linda, Kerry Bishé), ...\n",
            "4806    [(Oliver O’Toole, Eric Mabius), (Shane McInern...\n",
            "4807    [(Sam, Daniel Henney), (Amanda, Eliza Coupe), ...\n",
            "4808    [(Herself, Drew Barrymore), (Himself, Brian He...\n",
            "Name: cast, Length: 4809, dtype: object\n",
            "0                                [James Cameron]\n",
            "1                               [Gore Verbinski]\n",
            "2                                   [Sam Mendes]\n",
            "3                            [Christopher Nolan]\n",
            "4                               [Andrew Stanton]\n",
            "                          ...                   \n",
            "4804                          [Robert Rodriguez]\n",
            "4805                              [Edward Burns]\n",
            "4806                               [Scott Smith]\n",
            "4807                               [Daniel Hsia]\n",
            "4808    [Brian Herzlinger, Jon Gunn, Brett Winn]\n",
            "Name: crew, Length: 4809, dtype: object\n",
            "0       [United States of America, United Kingdom]\n",
            "1                       [United States of America]\n",
            "2       [United Kingdom, United States of America]\n",
            "3                       [United States of America]\n",
            "4                       [United States of America]\n",
            "                           ...                    \n",
            "4804            [Mexico, United States of America]\n",
            "4805                                            []\n",
            "4806                    [United States of America]\n",
            "4807             [United States of America, China]\n",
            "4808                    [United States of America]\n",
            "Name: production_countries, Length: 4809, dtype: object\n"
          ]
        }
      ],
      "source": [
        "print(movies['genres'])\n",
        "print(movies['keywords'])\n",
        "print(movies['cast'])\n",
        "print(movies['crew'])\n",
        "print(movies['production_countries'])"
      ]
    },
    {
      "cell_type": "code",
      "execution_count": 12,
      "metadata": {
        "colab": {
          "base_uri": "https://localhost:8080/",
          "height": 115
        },
        "id": "b-ufv7KFKh51",
        "outputId": "ee4855e3-9996-47a3-f741-7fff343bca82"
      },
      "outputs": [
        {
          "data": {
            "text/plain": [
              "0    [(Jake Sully, Sam Worthington), (Neytiri, Zoe ...\n",
              "Name: cast, dtype: object"
            ]
          },
          "execution_count": 12,
          "metadata": {},
          "output_type": "execute_result"
        }
      ],
      "source": [
        "movies['cast'].head(1)"
      ]
    },
    {
      "cell_type": "code",
      "execution_count": 13,
      "metadata": {
        "colab": {
          "base_uri": "https://localhost:8080/",
          "height": 115
        },
        "id": "I-8hPW0NRqK0",
        "outputId": "d0767d6d-c414-4b90-983c-32ecc476440c"
      },
      "outputs": [
        {
          "data": {
            "text/plain": [
              "0    [James Cameron]\n",
              "Name: crew, dtype: object"
            ]
          },
          "execution_count": 13,
          "metadata": {},
          "output_type": "execute_result"
        }
      ],
      "source": [
        "movies['crew'].head(1)"
      ]
    },
    {
      "cell_type": "code",
      "execution_count": 14,
      "metadata": {
        "id": "mQDM57YrTT-n"
      },
      "outputs": [],
      "source": [
        "movies['tag'] = movies['title'] + ' ' + movies['genres'].apply(lambda x: \" \".join(x)) + movies['keywords'].apply(lambda x: \" \".join(x)) + movies['cast'].apply(lambda x: \" \".join(map(str, x))) + movies['crew'].apply(lambda x: \" \".join(x)) + movies['production_countries'].apply(lambda x: \" \".join(x))"
      ]
    },
    {
      "cell_type": "code",
      "execution_count": 15,
      "metadata": {
        "colab": {
          "base_uri": "https://localhost:8080/",
          "height": 458
        },
        "id": "PjHMBSgnT_5E",
        "outputId": "b37f8ea6-8eb3-470b-bedc-b1466f4ddb54"
      },
      "outputs": [
        {
          "data": {
            "text/plain": [
              "0       Avatar Action Adventure Fantasy Science Fictio...\n",
              "1       Pirates of the Caribbean: At World's End Adven...\n",
              "2       Spectre Action Adventure Crimespy based on nov...\n",
              "3       The Dark Knight Rises Action Crime Drama Thril...\n",
              "4       John Carter Action Adventure Science Fictionba...\n",
              "                              ...                        \n",
              "4804    El Mariachi Action Crime Thrillerunited states...\n",
              "4805    Newlyweds Comedy Romance('Buzzy', 'Edward Burn...\n",
              "4806    Signed, Sealed, Delivered Comedy Drama Romance...\n",
              "4807    Shanghai Calling ('Sam', 'Daniel Henney') ('Am...\n",
              "4808    My Date with Drew Documentaryobsession camcord...\n",
              "Name: tag, Length: 4809, dtype: object"
            ]
          },
          "execution_count": 15,
          "metadata": {},
          "output_type": "execute_result"
        }
      ],
      "source": [
        "movies['tag']"
      ]
    },
    {
      "cell_type": "code",
      "execution_count": 16,
      "metadata": {
        "id": "C_4JxtNJWAGn"
      },
      "outputs": [],
      "source": [
        "movies = movies[['movie_id', 'title', 'tagline', 'overview',  'original_language', 'tag']]"
      ]
    },
    {
      "cell_type": "code",
      "execution_count": 17,
      "metadata": {
        "colab": {
          "base_uri": "https://localhost:8080/",
          "height": 81
        },
        "id": "4HxHSxZvYSAz",
        "outputId": "497d6ab0-eacc-4ad9-d57e-cd4fc10838ad"
      },
      "outputs": [
        {
          "data": {
            "text/html": [
              "<div>\n",
              "<style scoped>\n",
              "    .dataframe tbody tr th:only-of-type {\n",
              "        vertical-align: middle;\n",
              "    }\n",
              "\n",
              "    .dataframe tbody tr th {\n",
              "        vertical-align: top;\n",
              "    }\n",
              "\n",
              "    .dataframe thead th {\n",
              "        text-align: right;\n",
              "    }\n",
              "</style>\n",
              "<table border=\"1\" class=\"dataframe\">\n",
              "  <thead>\n",
              "    <tr style=\"text-align: right;\">\n",
              "      <th></th>\n",
              "      <th>movie_id</th>\n",
              "      <th>title</th>\n",
              "      <th>tagline</th>\n",
              "      <th>overview</th>\n",
              "      <th>original_language</th>\n",
              "      <th>tag</th>\n",
              "    </tr>\n",
              "  </thead>\n",
              "  <tbody>\n",
              "    <tr>\n",
              "      <th>0</th>\n",
              "      <td>19995</td>\n",
              "      <td>Avatar</td>\n",
              "      <td>Enter the World of Pandora.</td>\n",
              "      <td>In the 22nd century, a paraplegic Marine is di...</td>\n",
              "      <td>en</td>\n",
              "      <td>Avatar Action Adventure Fantasy Science Fictio...</td>\n",
              "    </tr>\n",
              "  </tbody>\n",
              "</table>\n",
              "</div>"
            ],
            "text/plain": [
              "   movie_id   title                      tagline  \\\n",
              "0     19995  Avatar  Enter the World of Pandora.   \n",
              "\n",
              "                                            overview original_language  \\\n",
              "0  In the 22nd century, a paraplegic Marine is di...                en   \n",
              "\n",
              "                                                 tag  \n",
              "0  Avatar Action Adventure Fantasy Science Fictio...  "
            ]
          },
          "execution_count": 17,
          "metadata": {},
          "output_type": "execute_result"
        }
      ],
      "source": [
        "movies.head(1)"
      ]
    },
    {
      "cell_type": "code",
      "execution_count": 18,
      "metadata": {},
      "outputs": [
        {
          "name": "stderr",
          "output_type": "stream",
          "text": [
            "[nltk_data] Downloading package stopwords to\n",
            "[nltk_data]     C:\\Users\\Taha\\AppData\\Roaming\\nltk_data...\n",
            "[nltk_data]   Package stopwords is already up-to-date!\n",
            "[nltk_data] Downloading package wordnet to\n",
            "[nltk_data]     C:\\Users\\Taha\\AppData\\Roaming\\nltk_data...\n",
            "[nltk_data]   Package wordnet is already up-to-date!\n",
            "[nltk_data] Downloading package punkt_tab to\n",
            "[nltk_data]     C:\\Users\\Taha\\AppData\\Roaming\\nltk_data...\n",
            "[nltk_data]   Package punkt_tab is already up-to-date!\n"
          ]
        },
        {
          "data": {
            "text/plain": [
              "True"
            ]
          },
          "execution_count": 18,
          "metadata": {},
          "output_type": "execute_result"
        }
      ],
      "source": [
        "import nltk\n",
        "import re\n",
        "from nltk.stem import WordNetLemmatizer\n",
        "from nltk.corpus import stopwords\n",
        "nltk.download('stopwords')\n",
        "nltk.download('wordnet')\n",
        "nltk.download('punkt_tab')"
      ]
    },
    {
      "cell_type": "code",
      "execution_count": 19,
      "metadata": {},
      "outputs": [],
      "source": [
        "def clean_text(text):\n",
        "  text = re.sub(r'[^\\w\\s]', '', text)\n",
        "  tokens = nltk.word_tokenize(text.lower())\n",
        "  tokens = [token for token in tokens if token not in stopwords.words('english')]\n",
        "  lemmatizer = WordNetLemmatizer()\n",
        "  tokens = [lemmatizer.lemmatize(token) for token in tokens]\n",
        "  return ' '.join(tokens)"
      ]
    },
    {
      "cell_type": "code",
      "execution_count": 20,
      "metadata": {},
      "outputs": [],
      "source": [
        "movies['tag'] = movies['tag'].apply(clean_text)"
      ]
    },
    {
      "cell_type": "code",
      "execution_count": 21,
      "metadata": {},
      "outputs": [],
      "source": [
        "movies['title'] = movies['title'].apply(clean_text)"
      ]
    },
    {
      "cell_type": "code",
      "execution_count": 22,
      "metadata": {
        "colab": {
          "base_uri": "https://localhost:8080/",
          "height": 458
        },
        "id": "xrl7qT0kZoTY",
        "outputId": "94c7fe0e-dcdd-4b23-b05f-2ab98cdc42bb"
      },
      "outputs": [
        {
          "data": {
            "text/plain": [
              "0       avatar action adventure fantasy science fictio...\n",
              "1       pirate caribbean world end adventure fantasy a...\n",
              "2       spectre action adventure crimespy based novel ...\n",
              "3       dark knight rise action crime drama thrillerdc...\n",
              "4       john carter action adventure science fictionba...\n",
              "                              ...                        \n",
              "4804    el mariachi action crime thrillerunited states...\n",
              "4805    newlywed comedy romancebuzzy edward burn linda...\n",
              "4806    signed sealed delivered comedy drama romance t...\n",
              "4807    shanghai calling sam daniel henney amanda eliz...\n",
              "4808    date drew documentaryobsession camcorder crush...\n",
              "Name: tag, Length: 4809, dtype: object"
            ]
          },
          "execution_count": 22,
          "metadata": {},
          "output_type": "execute_result"
        }
      ],
      "source": [
        "movies['tag']"
      ]
    },
    {
      "cell_type": "code",
      "execution_count": 23,
      "metadata": {},
      "outputs": [
        {
          "data": {
            "text/plain": [
              "0                           avatar\n",
              "1       pirate caribbean world end\n",
              "2                          spectre\n",
              "3                 dark knight rise\n",
              "4                      john carter\n",
              "                   ...            \n",
              "4804                   el mariachi\n",
              "4805                      newlywed\n",
              "4806       signed sealed delivered\n",
              "4807              shanghai calling\n",
              "4808                     date drew\n",
              "Name: title, Length: 4809, dtype: object"
            ]
          },
          "execution_count": 23,
          "metadata": {},
          "output_type": "execute_result"
        }
      ],
      "source": [
        "movies['title']"
      ]
    },
    {
      "cell_type": "code",
      "execution_count": 24,
      "metadata": {
        "colab": {
          "base_uri": "https://localhost:8080/",
          "height": 206
        },
        "id": "_pzI_Dh0Zx2W",
        "outputId": "b0eb70a6-955c-463f-bf99-d9bbd17ee1cb"
      },
      "outputs": [
        {
          "data": {
            "text/html": [
              "<div>\n",
              "<style scoped>\n",
              "    .dataframe tbody tr th:only-of-type {\n",
              "        vertical-align: middle;\n",
              "    }\n",
              "\n",
              "    .dataframe tbody tr th {\n",
              "        vertical-align: top;\n",
              "    }\n",
              "\n",
              "    .dataframe thead th {\n",
              "        text-align: right;\n",
              "    }\n",
              "</style>\n",
              "<table border=\"1\" class=\"dataframe\">\n",
              "  <thead>\n",
              "    <tr style=\"text-align: right;\">\n",
              "      <th></th>\n",
              "      <th>movie_id</th>\n",
              "      <th>title</th>\n",
              "      <th>tagline</th>\n",
              "      <th>overview</th>\n",
              "      <th>original_language</th>\n",
              "      <th>tag</th>\n",
              "    </tr>\n",
              "  </thead>\n",
              "  <tbody>\n",
              "    <tr>\n",
              "      <th>0</th>\n",
              "      <td>19995</td>\n",
              "      <td>avatar</td>\n",
              "      <td>Enter the World of Pandora.</td>\n",
              "      <td>In the 22nd century, a paraplegic Marine is di...</td>\n",
              "      <td>en</td>\n",
              "      <td>avatar action adventure fantasy science fictio...</td>\n",
              "    </tr>\n",
              "    <tr>\n",
              "      <th>1</th>\n",
              "      <td>285</td>\n",
              "      <td>pirate caribbean world end</td>\n",
              "      <td>At the end of the world, the adventure begins.</td>\n",
              "      <td>Captain Barbossa, long believed to be dead, ha...</td>\n",
              "      <td>en</td>\n",
              "      <td>pirate caribbean world end adventure fantasy a...</td>\n",
              "    </tr>\n",
              "    <tr>\n",
              "      <th>2</th>\n",
              "      <td>206647</td>\n",
              "      <td>spectre</td>\n",
              "      <td>A Plan No One Escapes</td>\n",
              "      <td>A cryptic message from Bond’s past sends him o...</td>\n",
              "      <td>en</td>\n",
              "      <td>spectre action adventure crimespy based novel ...</td>\n",
              "    </tr>\n",
              "    <tr>\n",
              "      <th>3</th>\n",
              "      <td>49026</td>\n",
              "      <td>dark knight rise</td>\n",
              "      <td>The Legend Ends</td>\n",
              "      <td>Following the death of District Attorney Harve...</td>\n",
              "      <td>en</td>\n",
              "      <td>dark knight rise action crime drama thrillerdc...</td>\n",
              "    </tr>\n",
              "    <tr>\n",
              "      <th>4</th>\n",
              "      <td>49529</td>\n",
              "      <td>john carter</td>\n",
              "      <td>Lost in our world, found in another.</td>\n",
              "      <td>John Carter is a war-weary, former military ca...</td>\n",
              "      <td>en</td>\n",
              "      <td>john carter action adventure science fictionba...</td>\n",
              "    </tr>\n",
              "  </tbody>\n",
              "</table>\n",
              "</div>"
            ],
            "text/plain": [
              "   movie_id                       title  \\\n",
              "0     19995                      avatar   \n",
              "1       285  pirate caribbean world end   \n",
              "2    206647                     spectre   \n",
              "3     49026            dark knight rise   \n",
              "4     49529                 john carter   \n",
              "\n",
              "                                          tagline  \\\n",
              "0                     Enter the World of Pandora.   \n",
              "1  At the end of the world, the adventure begins.   \n",
              "2                           A Plan No One Escapes   \n",
              "3                                 The Legend Ends   \n",
              "4            Lost in our world, found in another.   \n",
              "\n",
              "                                            overview original_language  \\\n",
              "0  In the 22nd century, a paraplegic Marine is di...                en   \n",
              "1  Captain Barbossa, long believed to be dead, ha...                en   \n",
              "2  A cryptic message from Bond’s past sends him o...                en   \n",
              "3  Following the death of District Attorney Harve...                en   \n",
              "4  John Carter is a war-weary, former military ca...                en   \n",
              "\n",
              "                                                 tag  \n",
              "0  avatar action adventure fantasy science fictio...  \n",
              "1  pirate caribbean world end adventure fantasy a...  \n",
              "2  spectre action adventure crimespy based novel ...  \n",
              "3  dark knight rise action crime drama thrillerdc...  \n",
              "4  john carter action adventure science fictionba...  "
            ]
          },
          "execution_count": 24,
          "metadata": {},
          "output_type": "execute_result"
        }
      ],
      "source": [
        "movies.head()"
      ]
    },
    {
      "cell_type": "code",
      "execution_count": 25,
      "metadata": {
        "id": "gL8-REjwZ1-J"
      },
      "outputs": [],
      "source": [
        "from sklearn.feature_extraction.text import TfidfVectorizer\n",
        "tfidf = TfidfVectorizer(stop_words='english')\n",
        "tfidf_matrix = tfidf.fit_transform(movies['tag'])"
      ]
    },
    {
      "cell_type": "code",
      "execution_count": 26,
      "metadata": {
        "id": "h25pi0HHdinC"
      },
      "outputs": [],
      "source": [
        "from sklearn.metrics.pairwise import cosine_similarity\n",
        "cosine_sim = cosine_similarity(tfidf_matrix, tfidf_matrix)"
      ]
    },
    {
      "cell_type": "code",
      "execution_count": 27,
      "metadata": {
        "id": "bA4PZRCwd0wz"
      },
      "outputs": [],
      "source": [
        "def get_recommendations(title, cosine_sim=cosine_sim):\n",
        "  title = clean_text(title)\n",
        "  idx = movies[movies['title'] == title].index\n",
        "  if len(idx) == 0:\n",
        "    print(f\"Movie '{title}' not found in the database.\")\n",
        "    return []\n",
        "  idx = idx[0]\n",
        "  sim_scores = list(enumerate(cosine_sim[idx]))\n",
        "  sim_scores = sorted(sim_scores, key=lambda x: x[1], reverse=True)\n",
        "  sim_scores = sim_scores[1:11]\n",
        "  movie_indices = [i[0] for i in sim_scores]\n",
        "  return movies['title'].iloc[movie_indices]"
      ]
    },
    {
      "cell_type": "code",
      "execution_count": 28,
      "metadata": {
        "colab": {
          "base_uri": "https://localhost:8080/"
        },
        "id": "rvER6BEfekoP",
        "outputId": "8f968094-e0d6-4e49-ae60-c7f5e3fe6930"
      },
      "outputs": [
        {
          "name": "stdout",
          "output_type": "stream",
          "text": [
            "813                             superman\n",
            "870                          superman ii\n",
            "9         batman v superman dawn justice\n",
            "1297                        superman iii\n",
            "14                             man steel\n",
            "2435             superman iv quest peace\n",
            "64                       xmen apocalypse\n",
            "4038                               super\n",
            "38                   amazing spiderman 2\n",
            "3859    batman dark knight return part 2\n",
            "Name: title, dtype: object\n"
          ]
        }
      ],
      "source": [
        "print(get_recommendations('SupermaN return'))"
      ]
    },
    {
      "cell_type": "code",
      "execution_count": 29,
      "metadata": {},
      "outputs": [],
      "source": [
        "def get_recommendations_by_keywords(keywords, cosine_sim=cosine_sim):\n",
        "\n",
        "  keywords = clean_text(keywords) \n",
        "  keyword_vector = tfidf.transform([keywords])  \n",
        "\n",
        "  sim_scores = cosine_similarity(keyword_vector, tfidf_matrix).flatten() \n",
        "\n",
        "  sim_scores = list(enumerate(sim_scores))\n",
        "  sim_scores = sorted(sim_scores, key=lambda x: x[1], reverse=True)\n",
        "  sim_scores = sim_scores[0:10]  \n",
        "\n",
        "  movie_indices = [i[0] for i in sim_scores]\n",
        "  return movies['title'].iloc[movie_indices]"
      ]
    },
    {
      "cell_type": "code",
      "execution_count": 30,
      "metadata": {},
      "outputs": [
        {
          "name": "stdout",
          "output_type": "stream",
          "text": [
            "7                   avenger age ultron\n",
            "16                             avenger\n",
            "126                    thor dark world\n",
            "85      captain america winter soldier\n",
            "169      captain america first avenger\n",
            "17      pirate caribbean stranger tide\n",
            "2156                       street king\n",
            "818                   captain phillips\n",
            "3537                          galaxina\n",
            "3571                  20000 league sea\n",
            "Name: title, dtype: object\n"
          ]
        }
      ],
      "source": [
        "recommendations = get_recommendations_by_keywords(\"captain thor\")\n",
        "print(recommendations)"
      ]
    },
    {
      "cell_type": "code",
      "execution_count": 31,
      "metadata": {
        "id": "_YgJZ0v0eqAc"
      },
      "outputs": [],
      "source": [
        "import pickle\n",
        "with open('movies.pkl', 'wb') as file:\n",
        "  pickle.dump((movies, cosine_sim), file)"
      ]
    },
    {
      "cell_type": "code",
      "execution_count": 32,
      "metadata": {},
      "outputs": [
        {
          "data": {
            "text/html": [
              "<div>\n",
              "<style scoped>\n",
              "    .dataframe tbody tr th:only-of-type {\n",
              "        vertical-align: middle;\n",
              "    }\n",
              "\n",
              "    .dataframe tbody tr th {\n",
              "        vertical-align: top;\n",
              "    }\n",
              "\n",
              "    .dataframe thead th {\n",
              "        text-align: right;\n",
              "    }\n",
              "</style>\n",
              "<table border=\"1\" class=\"dataframe\">\n",
              "  <thead>\n",
              "    <tr style=\"text-align: right;\">\n",
              "      <th></th>\n",
              "      <th>movie_id</th>\n",
              "      <th>title</th>\n",
              "      <th>tagline</th>\n",
              "      <th>overview</th>\n",
              "      <th>original_language</th>\n",
              "      <th>tag</th>\n",
              "    </tr>\n",
              "  </thead>\n",
              "  <tbody>\n",
              "    <tr>\n",
              "      <th>64</th>\n",
              "      <td>246655</td>\n",
              "      <td>xmen apocalypse</td>\n",
              "      <td>Only the strong will survive</td>\n",
              "      <td>After the re-emergence of the world's first mu...</td>\n",
              "      <td>en</td>\n",
              "      <td>xmen apocalypse science fictionmutant supernat...</td>\n",
              "    </tr>\n",
              "  </tbody>\n",
              "</table>\n",
              "</div>"
            ],
            "text/plain": [
              "    movie_id            title                       tagline  \\\n",
              "64    246655  xmen apocalypse  Only the strong will survive   \n",
              "\n",
              "                                             overview original_language  \\\n",
              "64  After the re-emergence of the world's first mu...                en   \n",
              "\n",
              "                                                  tag  \n",
              "64  xmen apocalypse science fictionmutant supernat...  "
            ]
          },
          "execution_count": 32,
          "metadata": {},
          "output_type": "execute_result"
        }
      ],
      "source": [
        "title_to_search = \"X-Men: Apocalypse\"\n",
        "cleaned_title = clean_text(title_to_search)\n",
        "movie_row = movies[movies['title'] == cleaned_title]\n",
        "movie_row"
      ]
    },
    {
      "cell_type": "code",
      "execution_count": 33,
      "metadata": {},
      "outputs": [
        {
          "data": {
            "text/html": [
              "<div>\n",
              "<style scoped>\n",
              "    .dataframe tbody tr th:only-of-type {\n",
              "        vertical-align: middle;\n",
              "    }\n",
              "\n",
              "    .dataframe tbody tr th {\n",
              "        vertical-align: top;\n",
              "    }\n",
              "\n",
              "    .dataframe thead th {\n",
              "        text-align: right;\n",
              "    }\n",
              "</style>\n",
              "<table border=\"1\" class=\"dataframe\">\n",
              "  <thead>\n",
              "    <tr style=\"text-align: right;\">\n",
              "      <th></th>\n",
              "      <th>movie_id</th>\n",
              "      <th>title</th>\n",
              "      <th>tagline</th>\n",
              "      <th>overview</th>\n",
              "      <th>original_language</th>\n",
              "      <th>tag</th>\n",
              "    </tr>\n",
              "  </thead>\n",
              "  <tbody>\n",
              "    <tr>\n",
              "      <th>10</th>\n",
              "      <td>1452</td>\n",
              "      <td>superman return</td>\n",
              "      <td>NaN</td>\n",
              "      <td>Superman returns to discover his 5-year absenc...</td>\n",
              "      <td>en</td>\n",
              "      <td>superman return adventure fantasy action scien...</td>\n",
              "    </tr>\n",
              "  </tbody>\n",
              "</table>\n",
              "</div>"
            ],
            "text/plain": [
              "    movie_id            title tagline  \\\n",
              "10      1452  superman return     NaN   \n",
              "\n",
              "                                             overview original_language  \\\n",
              "10  Superman returns to discover his 5-year absenc...                en   \n",
              "\n",
              "                                                  tag  \n",
              "10  superman return adventure fantasy action scien...  "
            ]
          },
          "execution_count": 33,
          "metadata": {},
          "output_type": "execute_result"
        }
      ],
      "source": [
        "title_to_search = \"Superman Return\"\n",
        "cleaned_title = clean_text(title_to_search)\n",
        "movie_row = movies[movies['title'] == cleaned_title]\n",
        "movie_row"
      ]
    }
  ],
  "metadata": {
    "colab": {
      "provenance": []
    },
    "kernelspec": {
      "display_name": "Python 3",
      "name": "python3"
    },
    "language_info": {
      "codemirror_mode": {
        "name": "ipython",
        "version": 3
      },
      "file_extension": ".py",
      "mimetype": "text/x-python",
      "name": "python",
      "nbconvert_exporter": "python",
      "pygments_lexer": "ipython3",
      "version": "3.12.5"
    }
  },
  "nbformat": 4,
  "nbformat_minor": 0
}
