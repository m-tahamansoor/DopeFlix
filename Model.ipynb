{
  "cells": [
    {
      "cell_type": "code",
      "execution_count": 1,
      "metadata": {
        "id": "DZOKMpKZEyFQ"
      },
      "outputs": [],
      "source": [
        "import pandas as pd\n",
        "import numpy as np\n",
        "import ast"
      ]
    },
    {
      "cell_type": "code",
      "execution_count": 2,
      "metadata": {
        "id": "K4HODFETFGsQ"
      },
      "outputs": [],
      "source": [
        "credits = pd.read_csv('credits_dataset.csv')\n",
        "movies = pd.read_csv('movies_dataset.csv')"
      ]
    },
    {
      "cell_type": "code",
      "execution_count": 5,
      "metadata": {
        "id": "etBuWxa4GIO5"
      },
      "outputs": [],
      "source": [
        "movies = movies.merge(credits, left_on = 'title', right_on = 'title')"
      ]
    },
    {
      "cell_type": "code",
      "execution_count": 7,
      "metadata": {
        "id": "t-xSHmniGnu-"
      },
      "outputs": [],
      "source": [
        "movies = movies[['movie_id', 'title', 'overview', 'genres', 'keywords', 'cast', 'crew', 'original_language', 'production_countries', 'tagline']]"
      ]
    },
    {
      "cell_type": "code",
      "execution_count": 8,
      "metadata": {
        "colab": {
          "base_uri": "https://localhost:8080/",
          "height": 98
        },
        "id": "7bR5OZQuI4q0",
        "outputId": "e8bb75fb-18d0-4bb4-a4f2-6256600e8dec"
      },
      "outputs": [
        {
          "data": {
            "text/html": [
              "<div>\n",
              "<style scoped>\n",
              "    .dataframe tbody tr th:only-of-type {\n",
              "        vertical-align: middle;\n",
              "    }\n",
              "\n",
              "    .dataframe tbody tr th {\n",
              "        vertical-align: top;\n",
              "    }\n",
              "\n",
              "    .dataframe thead th {\n",
              "        text-align: right;\n",
              "    }\n",
              "</style>\n",
              "<table border=\"1\" class=\"dataframe\">\n",
              "  <thead>\n",
              "    <tr style=\"text-align: right;\">\n",
              "      <th></th>\n",
              "      <th>movie_id</th>\n",
              "      <th>title</th>\n",
              "      <th>overview</th>\n",
              "      <th>genres</th>\n",
              "      <th>keywords</th>\n",
              "      <th>cast</th>\n",
              "      <th>crew</th>\n",
              "      <th>original_language</th>\n",
              "      <th>production_countries</th>\n",
              "      <th>tagline</th>\n",
              "    </tr>\n",
              "  </thead>\n",
              "  <tbody>\n",
              "    <tr>\n",
              "      <th>0</th>\n",
              "      <td>19995</td>\n",
              "      <td>Avatar</td>\n",
              "      <td>In the 22nd century, a paraplegic Marine is di...</td>\n",
              "      <td>[{\"id\": 28, \"name\": \"Action\"}, {\"id\": 12, \"nam...</td>\n",
              "      <td>[{\"id\": 1463, \"name\": \"culture clash\"}, {\"id\":...</td>\n",
              "      <td>[{\"cast_id\": 242, \"character\": \"Jake Sully\", \"...</td>\n",
              "      <td>[{\"credit_id\": \"52fe48009251416c750aca23\", \"de...</td>\n",
              "      <td>en</td>\n",
              "      <td>[{\"iso_3166_1\": \"US\", \"name\": \"United States o...</td>\n",
              "      <td>Enter the World of Pandora.</td>\n",
              "    </tr>\n",
              "  </tbody>\n",
              "</table>\n",
              "</div>"
            ],
            "text/plain": [
              "   movie_id   title                                           overview  \\\n",
              "0     19995  Avatar  In the 22nd century, a paraplegic Marine is di...   \n",
              "\n",
              "                                              genres  \\\n",
              "0  [{\"id\": 28, \"name\": \"Action\"}, {\"id\": 12, \"nam...   \n",
              "\n",
              "                                            keywords  \\\n",
              "0  [{\"id\": 1463, \"name\": \"culture clash\"}, {\"id\":...   \n",
              "\n",
              "                                                cast  \\\n",
              "0  [{\"cast_id\": 242, \"character\": \"Jake Sully\", \"...   \n",
              "\n",
              "                                                crew original_language  \\\n",
              "0  [{\"credit_id\": \"52fe48009251416c750aca23\", \"de...                en   \n",
              "\n",
              "                                production_countries  \\\n",
              "0  [{\"iso_3166_1\": \"US\", \"name\": \"United States o...   \n",
              "\n",
              "                       tagline  \n",
              "0  Enter the World of Pandora.  "
            ]
          },
          "execution_count": 8,
          "metadata": {},
          "output_type": "execute_result"
        }
      ],
      "source": [
        "movies.head(1)"
      ]
    },
    {
      "cell_type": "code",
      "execution_count": 9,
      "metadata": {
        "id": "s4KCNav6JnoO"
      },
      "outputs": [],
      "source": [
        "def convert(obj):\n",
        "  L = []\n",
        "  for i in ast.literal_eval(obj):\n",
        "    L.append(i['name'])\n",
        "  return L"
      ]
    },
    {
      "cell_type": "code",
      "execution_count": 10,
      "metadata": {
        "id": "E7W5GooHKWUA"
      },
      "outputs": [],
      "source": [
        "movies['genres'] = movies['genres'].apply(convert)\n",
        "movies['keywords'] = movies['keywords'].apply(convert)\n",
        "movies['cast'] = movies['cast'].apply(lambda x: [(i['character'], i['name']) for i in ast.literal_eval(x)][:5])\n",
        "movies['crew'] = movies['crew'].apply(lambda x: [i['name'] for i in ast.literal_eval(x) if i['job'] == 'Director'])\n",
        "movies['production_countries'] = movies['production_countries'].apply(convert)"
      ]
    },
    {
      "cell_type": "code",
      "execution_count": 11,
      "metadata": {
        "colab": {
          "base_uri": "https://localhost:8080/"
        },
        "id": "iaB6lV1xKfeu",
        "outputId": "00f006d1-8388-48e6-ec07-1b6e4273882c"
      },
      "outputs": [
        {
          "name": "stdout",
          "output_type": "stream",
          "text": [
            "0       [Action, Adventure, Fantasy, Science Fiction]\n",
            "1                        [Adventure, Fantasy, Action]\n",
            "2                          [Action, Adventure, Crime]\n",
            "3                    [Action, Crime, Drama, Thriller]\n",
            "4                [Action, Adventure, Science Fiction]\n",
            "                            ...                      \n",
            "4804                        [Action, Crime, Thriller]\n",
            "4805                                [Comedy, Romance]\n",
            "4806               [Comedy, Drama, Romance, TV Movie]\n",
            "4807                                               []\n",
            "4808                                    [Documentary]\n",
            "Name: genres, Length: 4809, dtype: object\n",
            "0       [culture clash, future, space war, space colon...\n",
            "1       [ocean, drug abuse, exotic island, east india ...\n",
            "2       [spy, based on novel, secret agent, sequel, mi...\n",
            "3       [dc comics, crime fighter, terrorist, secret i...\n",
            "4       [based on novel, mars, medallion, space travel...\n",
            "                              ...                        \n",
            "4804    [united states–mexico barrier, legs, arms, pap...\n",
            "4805                                                   []\n",
            "4806    [date, love at first sight, narration, investi...\n",
            "4807                                                   []\n",
            "4808            [obsession, camcorder, crush, dream girl]\n",
            "Name: keywords, Length: 4809, dtype: object\n",
            "0       [(Jake Sully, Sam Worthington), (Neytiri, Zoe ...\n",
            "1       [(Captain Jack Sparrow, Johnny Depp), (Will Tu...\n",
            "2       [(James Bond, Daniel Craig), (Blofeld, Christo...\n",
            "3       [(Bruce Wayne / Batman, Christian Bale), (Alfr...\n",
            "4       [(John Carter, Taylor Kitsch), (Dejah Thoris, ...\n",
            "                              ...                        \n",
            "4804    [(El Mariachi, Carlos Gallardo), (Bigotón, Jai...\n",
            "4805    [(Buzzy, Edward Burns), (Linda, Kerry Bishé), ...\n",
            "4806    [(Oliver O’Toole, Eric Mabius), (Shane McInern...\n",
            "4807    [(Sam, Daniel Henney), (Amanda, Eliza Coupe), ...\n",
            "4808    [(Herself, Drew Barrymore), (Himself, Brian He...\n",
            "Name: cast, Length: 4809, dtype: object\n",
            "0                                [James Cameron]\n",
            "1                               [Gore Verbinski]\n",
            "2                                   [Sam Mendes]\n",
            "3                            [Christopher Nolan]\n",
            "4                               [Andrew Stanton]\n",
            "                          ...                   \n",
            "4804                          [Robert Rodriguez]\n",
            "4805                              [Edward Burns]\n",
            "4806                               [Scott Smith]\n",
            "4807                               [Daniel Hsia]\n",
            "4808    [Brian Herzlinger, Jon Gunn, Brett Winn]\n",
            "Name: crew, Length: 4809, dtype: object\n",
            "0       [United States of America, United Kingdom]\n",
            "1                       [United States of America]\n",
            "2       [United Kingdom, United States of America]\n",
            "3                       [United States of America]\n",
            "4                       [United States of America]\n",
            "                           ...                    \n",
            "4804            [Mexico, United States of America]\n",
            "4805                                            []\n",
            "4806                    [United States of America]\n",
            "4807             [United States of America, China]\n",
            "4808                    [United States of America]\n",
            "Name: production_countries, Length: 4809, dtype: object\n"
          ]
        }
      ],
      "source": [
        "print(movies['genres'])\n",
        "print(movies['keywords'])\n",
        "print(movies['cast'])\n",
        "print(movies['crew'])\n",
        "print(movies['production_countries'])"
      ]
    },
    {
      "cell_type": "code",
      "execution_count": 14,
      "metadata": {
        "id": "mQDM57YrTT-n"
      },
      "outputs": [],
      "source": [
        "movies['tag'] = movies['title'] + ' ' + movies['genres'].apply(lambda x: \" \".join(x)) + movies['keywords'].apply(lambda x: \" \".join(x)) + movies['cast'].apply(lambda x: \" \".join(map(str, x))) + movies['crew'].apply(lambda x: \" \".join(x)) + movies['production_countries'].apply(lambda x: \" \".join(x))"
      ]
    },
    {
      "cell_type": "code",
      "execution_count": 16,
      "metadata": {
        "id": "C_4JxtNJWAGn"
      },
      "outputs": [],
      "source": [
        "movies = movies[['movie_id', 'title', 'tagline', 'overview',  'original_language', 'tag']]"
      ]
    },
    {
      "cell_type": "code",
      "execution_count": 18,
      "metadata": {},
      "outputs": [
        {
          "name": "stderr",
          "output_type": "stream",
          "text": [
            "[nltk_data] Downloading package stopwords to\n",
            "[nltk_data]     C:\\Users\\Taha\\AppData\\Roaming\\nltk_data...\n",
            "[nltk_data]   Package stopwords is already up-to-date!\n",
            "[nltk_data] Downloading package wordnet to\n",
            "[nltk_data]     C:\\Users\\Taha\\AppData\\Roaming\\nltk_data...\n",
            "[nltk_data]   Package wordnet is already up-to-date!\n",
            "[nltk_data] Downloading package punkt_tab to\n",
            "[nltk_data]     C:\\Users\\Taha\\AppData\\Roaming\\nltk_data...\n",
            "[nltk_data]   Package punkt_tab is already up-to-date!\n"
          ]
        },
        {
          "data": {
            "text/plain": [
              "True"
            ]
          },
          "execution_count": 18,
          "metadata": {},
          "output_type": "execute_result"
        }
      ],
      "source": [
        "import nltk\n",
        "import re\n",
        "from nltk.stem import WordNetLemmatizer\n",
        "from nltk.corpus import stopwords\n",
        "nltk.download('stopwords')\n",
        "nltk.download('wordnet')\n",
        "nltk.download('punkt_tab')"
      ]
    },
    {
      "cell_type": "code",
      "execution_count": 19,
      "metadata": {},
      "outputs": [],
      "source": [
        "def clean_text(text):\n",
        "  text = re.sub(r'[^\\w\\s]', '', text)\n",
        "  tokens = nltk.word_tokenize(text.lower())\n",
        "  return ' '.join(tokens)"
      ]
    },
    {
      "cell_type": "code",
      "execution_count": 20,
      "metadata": {},
      "outputs": [],
      "source": [
        "movies['tag'] = movies['tag'].apply(clean_text)"
      ]
    },
    {
      "cell_type": "code",
      "execution_count": 21,
      "metadata": {},
      "outputs": [],
      "source": [
        "movies['title'] = movies['title'].apply(clean_text)"
      ]
    },
    {
      "cell_type": "code",
      "execution_count": 24,
      "metadata": {
        "colab": {
          "base_uri": "https://localhost:8080/",
          "height": 206
        },
        "id": "_pzI_Dh0Zx2W",
        "outputId": "b0eb70a6-955c-463f-bf99-d9bbd17ee1cb"
      },
      "outputs": [
        {
          "data": {
            "text/html": [
              "<div>\n",
              "<style scoped>\n",
              "    .dataframe tbody tr th:only-of-type {\n",
              "        vertical-align: middle;\n",
              "    }\n",
              "\n",
              "    .dataframe tbody tr th {\n",
              "        vertical-align: top;\n",
              "    }\n",
              "\n",
              "    .dataframe thead th {\n",
              "        text-align: right;\n",
              "    }\n",
              "</style>\n",
              "<table border=\"1\" class=\"dataframe\">\n",
              "  <thead>\n",
              "    <tr style=\"text-align: right;\">\n",
              "      <th></th>\n",
              "      <th>movie_id</th>\n",
              "      <th>title</th>\n",
              "      <th>tagline</th>\n",
              "      <th>overview</th>\n",
              "      <th>original_language</th>\n",
              "      <th>tag</th>\n",
              "    </tr>\n",
              "  </thead>\n",
              "  <tbody>\n",
              "    <tr>\n",
              "      <th>0</th>\n",
              "      <td>19995</td>\n",
              "      <td>avatar</td>\n",
              "      <td>Enter the World of Pandora.</td>\n",
              "      <td>In the 22nd century, a paraplegic Marine is di...</td>\n",
              "      <td>en</td>\n",
              "      <td>avatar action adventure fantasy science fictio...</td>\n",
              "    </tr>\n",
              "    <tr>\n",
              "      <th>1</th>\n",
              "      <td>285</td>\n",
              "      <td>pirate caribbean world end</td>\n",
              "      <td>At the end of the world, the adventure begins.</td>\n",
              "      <td>Captain Barbossa, long believed to be dead, ha...</td>\n",
              "      <td>en</td>\n",
              "      <td>pirate caribbean world end adventure fantasy a...</td>\n",
              "    </tr>\n",
              "    <tr>\n",
              "      <th>2</th>\n",
              "      <td>206647</td>\n",
              "      <td>spectre</td>\n",
              "      <td>A Plan No One Escapes</td>\n",
              "      <td>A cryptic message from Bond’s past sends him o...</td>\n",
              "      <td>en</td>\n",
              "      <td>spectre action adventure crimespy based novel ...</td>\n",
              "    </tr>\n",
              "    <tr>\n",
              "      <th>3</th>\n",
              "      <td>49026</td>\n",
              "      <td>dark knight rise</td>\n",
              "      <td>The Legend Ends</td>\n",
              "      <td>Following the death of District Attorney Harve...</td>\n",
              "      <td>en</td>\n",
              "      <td>dark knight rise action crime drama thrillerdc...</td>\n",
              "    </tr>\n",
              "    <tr>\n",
              "      <th>4</th>\n",
              "      <td>49529</td>\n",
              "      <td>john carter</td>\n",
              "      <td>Lost in our world, found in another.</td>\n",
              "      <td>John Carter is a war-weary, former military ca...</td>\n",
              "      <td>en</td>\n",
              "      <td>john carter action adventure science fictionba...</td>\n",
              "    </tr>\n",
              "  </tbody>\n",
              "</table>\n",
              "</div>"
            ],
            "text/plain": [
              "   movie_id                       title  \\\n",
              "0     19995                      avatar   \n",
              "1       285  pirate caribbean world end   \n",
              "2    206647                     spectre   \n",
              "3     49026            dark knight rise   \n",
              "4     49529                 john carter   \n",
              "\n",
              "                                          tagline  \\\n",
              "0                     Enter the World of Pandora.   \n",
              "1  At the end of the world, the adventure begins.   \n",
              "2                           A Plan No One Escapes   \n",
              "3                                 The Legend Ends   \n",
              "4            Lost in our world, found in another.   \n",
              "\n",
              "                                            overview original_language  \\\n",
              "0  In the 22nd century, a paraplegic Marine is di...                en   \n",
              "1  Captain Barbossa, long believed to be dead, ha...                en   \n",
              "2  A cryptic message from Bond’s past sends him o...                en   \n",
              "3  Following the death of District Attorney Harve...                en   \n",
              "4  John Carter is a war-weary, former military ca...                en   \n",
              "\n",
              "                                                 tag  \n",
              "0  avatar action adventure fantasy science fictio...  \n",
              "1  pirate caribbean world end adventure fantasy a...  \n",
              "2  spectre action adventure crimespy based novel ...  \n",
              "3  dark knight rise action crime drama thrillerdc...  \n",
              "4  john carter action adventure science fictionba...  "
            ]
          },
          "execution_count": 24,
          "metadata": {},
          "output_type": "execute_result"
        }
      ],
      "source": [
        "movies.head()"
      ]
    },
    {
      "cell_type": "code",
      "execution_count": 24,
      "metadata": {
        "id": "gL8-REjwZ1-J"
      },
      "outputs": [],
      "source": [
        "from sklearn.feature_extraction.text import TfidfVectorizer\n",
        "tfidf = TfidfVectorizer()\n",
        "tfidf_matrix = tfidf.fit_transform(movies['tag'])"
      ]
    },
    {
      "cell_type": "code",
      "execution_count": 25,
      "metadata": {
        "id": "h25pi0HHdinC"
      },
      "outputs": [],
      "source": [
        "from sklearn.metrics.pairwise import cosine_similarity\n",
        "cosine_sim = cosine_similarity(tfidf_matrix, tfidf_matrix)"
      ]
    },
    {
      "cell_type": "code",
      "execution_count": 26,
      "metadata": {
        "id": "bA4PZRCwd0wz"
      },
      "outputs": [],
      "source": [
        "def get_recommendations(title, cosine_sim=cosine_sim):\n",
        "  title = clean_text(title)\n",
        "  idx = movies[movies['title'] == title].index\n",
        "  if len(idx) == 0:\n",
        "    print(f\"Movie '{title}' not found in the database.\")\n",
        "    return []\n",
        "  idx = idx[0]\n",
        "  sim_scores = list(enumerate(cosine_sim[idx]))\n",
        "  sim_scores = sorted(sim_scores, key=lambda x: x[1], reverse=True)\n",
        "  sim_scores = sim_scores[1:11]\n",
        "  movie_indices = [i[0] for i in sim_scores]\n",
        "  return movies['title'].iloc[movie_indices]"
      ]
    },
    {
      "cell_type": "code",
      "execution_count": 40,
      "metadata": {
        "colab": {
          "base_uri": "https://localhost:8080/"
        },
        "id": "rvER6BEfekoP",
        "outputId": "8f968094-e0d6-4e49-ae60-c7f5e3fe6930"
      },
      "outputs": [
        {
          "name": "stdout",
          "output_type": "stream",
          "text": [
            "2895                     darling companion\n",
            "3852                        winter passing\n",
            "4287                               rebecca\n",
            "1640                      love other drugs\n",
            "85      captain america the winter soldier\n",
            "1099           love in the time of cholera\n",
            "4250                             pontypool\n",
            "1287                           snowpiercer\n",
            "1301                        the ugly truth\n",
            "3441                               control\n",
            "Name: title, dtype: object\n"
          ]
        }
      ],
      "source": [
        "print(get_recommendations(\"LOVE LETTERS\"))"
      ]
    },
    {
      "cell_type": "code",
      "execution_count": 41,
      "metadata": {},
      "outputs": [],
      "source": [
        "def get_recommendations_by_keywords(tag, cosine_sim=cosine_sim):\n",
        "\n",
        "  tag = clean_text(tag) \n",
        "  keyword_vector = tfidf.transform([tag])  \n",
        "\n",
        "  sim_scores = cosine_similarity(keyword_vector, tfidf_matrix).flatten() \n",
        "\n",
        "  sim_scores = list(enumerate(sim_scores))\n",
        "  sim_scores = sorted(sim_scores, key=lambda x: x[1], reverse=True)\n",
        "  sim_scores = sim_scores[0:10]  \n",
        "\n",
        "  movie_indices = [i[0] for i in sim_scores]\n",
        "  return movies['title'].iloc[movie_indices]"
      ]
    },
    {
      "cell_type": "code",
      "execution_count": 42,
      "metadata": {},
      "outputs": [
        {
          "name": "stdout",
          "output_type": "stream",
          "text": [
            "16                the avengers\n",
            "7       avengers age of ultron\n",
            "126        thor the dark world\n",
            "3537                  galaxina\n",
            "1717                   timecop\n",
            "2967     the last days on mars\n",
            "129                       thor\n",
            "260                enders game\n",
            "108         terminator genisys\n",
            "4407          the helix loaded\n",
            "Name: title, dtype: object\n"
          ]
        }
      ],
      "source": [
        "recommendations = get_recommendations_by_keywords(\"action science fiction thor\")\n",
        "print(recommendations)"
      ]
    },
    {
      "cell_type": "code",
      "execution_count": 43,
      "metadata": {
        "id": "_YgJZ0v0eqAc"
      },
      "outputs": [],
      "source": [
        "import pickle\n",
        "with open('movies.pkl', 'wb') as file:\n",
        "  pickle.dump((movies, cosine_sim), file)"
      ]
    }
  ],
  "metadata": {
    "colab": {
      "provenance": []
    },
    "kernelspec": {
      "display_name": "Python 3",
      "name": "python3"
    },
    "language_info": {
      "codemirror_mode": {
        "name": "ipython",
        "version": 3
      },
      "file_extension": ".py",
      "mimetype": "text/x-python",
      "name": "python",
      "nbconvert_exporter": "python",
      "pygments_lexer": "ipython3",
      "version": "3.12.5"
    }
  },
  "nbformat": 4,
  "nbformat_minor": 0
}
